{
 "cells": [
  {
   "cell_type": "markdown",
   "metadata": {},
   "source": [
    "# Time Series Anaylsis using Python"
   ]
  },
  {
   "cell_type": "code",
   "execution_count": 2,
   "metadata": {},
   "outputs": [],
   "source": [
    "import pandas as pd\n",
    "import numpy as np"
   ]
  },
  {
   "cell_type": "code",
   "execution_count": 3,
   "metadata": {},
   "outputs": [],
   "source": [
    "df=pd.read_csv(\"HistoricalQuotes.csv\") # this csv file provide in discription"
   ]
  },
  {
   "cell_type": "code",
   "execution_count": 4,
   "metadata": {},
   "outputs": [
    {
     "data": {
      "text/html": [
       "<div>\n",
       "<style scoped>\n",
       "    .dataframe tbody tr th:only-of-type {\n",
       "        vertical-align: middle;\n",
       "    }\n",
       "\n",
       "    .dataframe tbody tr th {\n",
       "        vertical-align: top;\n",
       "    }\n",
       "\n",
       "    .dataframe thead th {\n",
       "        text-align: right;\n",
       "    }\n",
       "</style>\n",
       "<table border=\"1\" class=\"dataframe\">\n",
       "  <thead>\n",
       "    <tr style=\"text-align: right;\">\n",
       "      <th></th>\n",
       "      <th>date</th>\n",
       "      <th>close</th>\n",
       "      <th>volume</th>\n",
       "      <th>open</th>\n",
       "      <th>high</th>\n",
       "      <th>low</th>\n",
       "    </tr>\n",
       "  </thead>\n",
       "  <tbody>\n",
       "    <tr>\n",
       "      <th>0</th>\n",
       "      <td>16:00</td>\n",
       "      <td>200.99</td>\n",
       "      <td>24,619,446</td>\n",
       "      <td>201.230</td>\n",
       "      <td>202.760</td>\n",
       "      <td>199.29</td>\n",
       "    </tr>\n",
       "    <tr>\n",
       "      <th>1</th>\n",
       "      <td>2019/08/09</td>\n",
       "      <td>200.99</td>\n",
       "      <td>24619750.0000</td>\n",
       "      <td>201.300</td>\n",
       "      <td>202.760</td>\n",
       "      <td>199.29</td>\n",
       "    </tr>\n",
       "    <tr>\n",
       "      <th>2</th>\n",
       "      <td>2019/08/08</td>\n",
       "      <td>203.43</td>\n",
       "      <td>27009520.0000</td>\n",
       "      <td>200.200</td>\n",
       "      <td>203.530</td>\n",
       "      <td>199.39</td>\n",
       "    </tr>\n",
       "    <tr>\n",
       "      <th>3</th>\n",
       "      <td>2019/08/07</td>\n",
       "      <td>199.04</td>\n",
       "      <td>33364400.0000</td>\n",
       "      <td>195.410</td>\n",
       "      <td>199.560</td>\n",
       "      <td>193.82</td>\n",
       "    </tr>\n",
       "    <tr>\n",
       "      <th>4</th>\n",
       "      <td>2019/08/06</td>\n",
       "      <td>197.00</td>\n",
       "      <td>35824790.0000</td>\n",
       "      <td>196.310</td>\n",
       "      <td>198.067</td>\n",
       "      <td>194.04</td>\n",
       "    </tr>\n",
       "    <tr>\n",
       "      <th>...</th>\n",
       "      <td>...</td>\n",
       "      <td>...</td>\n",
       "      <td>...</td>\n",
       "      <td>...</td>\n",
       "      <td>...</td>\n",
       "      <td>...</td>\n",
       "    </tr>\n",
       "    <tr>\n",
       "      <th>248</th>\n",
       "      <td>2018/08/15</td>\n",
       "      <td>210.24</td>\n",
       "      <td>28595230.0000</td>\n",
       "      <td>209.220</td>\n",
       "      <td>210.740</td>\n",
       "      <td>208.33</td>\n",
       "    </tr>\n",
       "    <tr>\n",
       "      <th>249</th>\n",
       "      <td>2018/08/14</td>\n",
       "      <td>209.75</td>\n",
       "      <td>20679270.0000</td>\n",
       "      <td>210.155</td>\n",
       "      <td>210.560</td>\n",
       "      <td>208.26</td>\n",
       "    </tr>\n",
       "    <tr>\n",
       "      <th>250</th>\n",
       "      <td>2018/08/13</td>\n",
       "      <td>208.87</td>\n",
       "      <td>25864510.0000</td>\n",
       "      <td>207.700</td>\n",
       "      <td>210.952</td>\n",
       "      <td>207.70</td>\n",
       "    </tr>\n",
       "    <tr>\n",
       "      <th>251</th>\n",
       "      <td>2018/08/10</td>\n",
       "      <td>207.53</td>\n",
       "      <td>24592460.0000</td>\n",
       "      <td>207.360</td>\n",
       "      <td>209.100</td>\n",
       "      <td>206.67</td>\n",
       "    </tr>\n",
       "    <tr>\n",
       "      <th>252</th>\n",
       "      <td>2018/08/09</td>\n",
       "      <td>208.88</td>\n",
       "      <td>23389530.0000</td>\n",
       "      <td>207.280</td>\n",
       "      <td>209.780</td>\n",
       "      <td>207.20</td>\n",
       "    </tr>\n",
       "  </tbody>\n",
       "</table>\n",
       "<p>253 rows × 6 columns</p>\n",
       "</div>"
      ],
      "text/plain": [
       "           date   close         volume     open     high     low\n",
       "0         16:00  200.99     24,619,446  201.230  202.760  199.29\n",
       "1    2019/08/09  200.99  24619750.0000  201.300  202.760  199.29\n",
       "2    2019/08/08  203.43  27009520.0000  200.200  203.530  199.39\n",
       "3    2019/08/07  199.04  33364400.0000  195.410  199.560  193.82\n",
       "4    2019/08/06  197.00  35824790.0000  196.310  198.067  194.04\n",
       "..          ...     ...            ...      ...      ...     ...\n",
       "248  2018/08/15  210.24  28595230.0000  209.220  210.740  208.33\n",
       "249  2018/08/14  209.75  20679270.0000  210.155  210.560  208.26\n",
       "250  2018/08/13  208.87  25864510.0000  207.700  210.952  207.70\n",
       "251  2018/08/10  207.53  24592460.0000  207.360  209.100  206.67\n",
       "252  2018/08/09  208.88  23389530.0000  207.280  209.780  207.20\n",
       "\n",
       "[253 rows x 6 columns]"
      ]
     },
     "execution_count": 4,
     "metadata": {},
     "output_type": "execute_result"
    }
   ],
   "source": [
    "df"
   ]
  },
  {
   "cell_type": "code",
   "execution_count": 5,
   "metadata": {},
   "outputs": [
    {
     "data": {
      "text/html": [
       "<div>\n",
       "<style scoped>\n",
       "    .dataframe tbody tr th:only-of-type {\n",
       "        vertical-align: middle;\n",
       "    }\n",
       "\n",
       "    .dataframe tbody tr th {\n",
       "        vertical-align: top;\n",
       "    }\n",
       "\n",
       "    .dataframe thead th {\n",
       "        text-align: right;\n",
       "    }\n",
       "</style>\n",
       "<table border=\"1\" class=\"dataframe\">\n",
       "  <thead>\n",
       "    <tr style=\"text-align: right;\">\n",
       "      <th></th>\n",
       "      <th>date</th>\n",
       "      <th>close</th>\n",
       "      <th>volume</th>\n",
       "      <th>open</th>\n",
       "      <th>high</th>\n",
       "      <th>low</th>\n",
       "    </tr>\n",
       "  </thead>\n",
       "  <tbody>\n",
       "    <tr>\n",
       "      <th>0</th>\n",
       "      <td>16:00</td>\n",
       "      <td>200.99</td>\n",
       "      <td>24,619,446</td>\n",
       "      <td>201.23</td>\n",
       "      <td>202.760</td>\n",
       "      <td>199.29</td>\n",
       "    </tr>\n",
       "    <tr>\n",
       "      <th>1</th>\n",
       "      <td>2019/08/09</td>\n",
       "      <td>200.99</td>\n",
       "      <td>24619750.0000</td>\n",
       "      <td>201.30</td>\n",
       "      <td>202.760</td>\n",
       "      <td>199.29</td>\n",
       "    </tr>\n",
       "    <tr>\n",
       "      <th>2</th>\n",
       "      <td>2019/08/08</td>\n",
       "      <td>203.43</td>\n",
       "      <td>27009520.0000</td>\n",
       "      <td>200.20</td>\n",
       "      <td>203.530</td>\n",
       "      <td>199.39</td>\n",
       "    </tr>\n",
       "    <tr>\n",
       "      <th>3</th>\n",
       "      <td>2019/08/07</td>\n",
       "      <td>199.04</td>\n",
       "      <td>33364400.0000</td>\n",
       "      <td>195.41</td>\n",
       "      <td>199.560</td>\n",
       "      <td>193.82</td>\n",
       "    </tr>\n",
       "    <tr>\n",
       "      <th>4</th>\n",
       "      <td>2019/08/06</td>\n",
       "      <td>197.00</td>\n",
       "      <td>35824790.0000</td>\n",
       "      <td>196.31</td>\n",
       "      <td>198.067</td>\n",
       "      <td>194.04</td>\n",
       "    </tr>\n",
       "  </tbody>\n",
       "</table>\n",
       "</div>"
      ],
      "text/plain": [
       "         date   close         volume    open     high     low\n",
       "0       16:00  200.99     24,619,446  201.23  202.760  199.29\n",
       "1  2019/08/09  200.99  24619750.0000  201.30  202.760  199.29\n",
       "2  2019/08/08  203.43  27009520.0000  200.20  203.530  199.39\n",
       "3  2019/08/07  199.04  33364400.0000  195.41  199.560  193.82\n",
       "4  2019/08/06  197.00  35824790.0000  196.31  198.067  194.04"
      ]
     },
     "execution_count": 5,
     "metadata": {},
     "output_type": "execute_result"
    }
   ],
   "source": [
    "df.head()"
   ]
  },
  {
   "cell_type": "code",
   "execution_count": 6,
   "metadata": {},
   "outputs": [
    {
     "data": {
      "text/plain": [
       "str"
      ]
     },
     "execution_count": 6,
     "metadata": {},
     "output_type": "execute_result"
    }
   ],
   "source": [
    "type(df.date[0])"
   ]
  },
  {
   "cell_type": "code",
   "execution_count": 7,
   "metadata": {},
   "outputs": [],
   "source": [
    "df=pd.read_csv(\"HistoricalQuotes.csv\", parse_dates=[\"date\"])"
   ]
  },
  {
   "cell_type": "code",
   "execution_count": 8,
   "metadata": {},
   "outputs": [
    {
     "data": {
      "text/plain": [
       "pandas._libs.tslibs.timestamps.Timestamp"
      ]
     },
     "execution_count": 8,
     "metadata": {},
     "output_type": "execute_result"
    }
   ],
   "source": [
    "type(df.date[0])"
   ]
  },
  {
   "cell_type": "code",
   "execution_count": 9,
   "metadata": {},
   "outputs": [],
   "source": [
    "df=pd.read_csv(\"HistoricalQuotes.csv\", parse_dates=[\"date\"], index_col=['date'])"
   ]
  },
  {
   "cell_type": "code",
   "execution_count": 10,
   "metadata": {},
   "outputs": [
    {
     "data": {
      "text/html": [
       "<div>\n",
       "<style scoped>\n",
       "    .dataframe tbody tr th:only-of-type {\n",
       "        vertical-align: middle;\n",
       "    }\n",
       "\n",
       "    .dataframe tbody tr th {\n",
       "        vertical-align: top;\n",
       "    }\n",
       "\n",
       "    .dataframe thead th {\n",
       "        text-align: right;\n",
       "    }\n",
       "</style>\n",
       "<table border=\"1\" class=\"dataframe\">\n",
       "  <thead>\n",
       "    <tr style=\"text-align: right;\">\n",
       "      <th></th>\n",
       "      <th>close</th>\n",
       "      <th>volume</th>\n",
       "      <th>open</th>\n",
       "      <th>high</th>\n",
       "      <th>low</th>\n",
       "    </tr>\n",
       "    <tr>\n",
       "      <th>date</th>\n",
       "      <th></th>\n",
       "      <th></th>\n",
       "      <th></th>\n",
       "      <th></th>\n",
       "      <th></th>\n",
       "    </tr>\n",
       "  </thead>\n",
       "  <tbody>\n",
       "    <tr>\n",
       "      <th>2021-03-04 16:00:00</th>\n",
       "      <td>200.99</td>\n",
       "      <td>24,619,446</td>\n",
       "      <td>201.230</td>\n",
       "      <td>202.760</td>\n",
       "      <td>199.29</td>\n",
       "    </tr>\n",
       "    <tr>\n",
       "      <th>2019-08-09 00:00:00</th>\n",
       "      <td>200.99</td>\n",
       "      <td>24619750.0000</td>\n",
       "      <td>201.300</td>\n",
       "      <td>202.760</td>\n",
       "      <td>199.29</td>\n",
       "    </tr>\n",
       "    <tr>\n",
       "      <th>2019-08-08 00:00:00</th>\n",
       "      <td>203.43</td>\n",
       "      <td>27009520.0000</td>\n",
       "      <td>200.200</td>\n",
       "      <td>203.530</td>\n",
       "      <td>199.39</td>\n",
       "    </tr>\n",
       "    <tr>\n",
       "      <th>2019-08-07 00:00:00</th>\n",
       "      <td>199.04</td>\n",
       "      <td>33364400.0000</td>\n",
       "      <td>195.410</td>\n",
       "      <td>199.560</td>\n",
       "      <td>193.82</td>\n",
       "    </tr>\n",
       "    <tr>\n",
       "      <th>2019-08-06 00:00:00</th>\n",
       "      <td>197.00</td>\n",
       "      <td>35824790.0000</td>\n",
       "      <td>196.310</td>\n",
       "      <td>198.067</td>\n",
       "      <td>194.04</td>\n",
       "    </tr>\n",
       "    <tr>\n",
       "      <th>...</th>\n",
       "      <td>...</td>\n",
       "      <td>...</td>\n",
       "      <td>...</td>\n",
       "      <td>...</td>\n",
       "      <td>...</td>\n",
       "    </tr>\n",
       "    <tr>\n",
       "      <th>2018-08-15 00:00:00</th>\n",
       "      <td>210.24</td>\n",
       "      <td>28595230.0000</td>\n",
       "      <td>209.220</td>\n",
       "      <td>210.740</td>\n",
       "      <td>208.33</td>\n",
       "    </tr>\n",
       "    <tr>\n",
       "      <th>2018-08-14 00:00:00</th>\n",
       "      <td>209.75</td>\n",
       "      <td>20679270.0000</td>\n",
       "      <td>210.155</td>\n",
       "      <td>210.560</td>\n",
       "      <td>208.26</td>\n",
       "    </tr>\n",
       "    <tr>\n",
       "      <th>2018-08-13 00:00:00</th>\n",
       "      <td>208.87</td>\n",
       "      <td>25864510.0000</td>\n",
       "      <td>207.700</td>\n",
       "      <td>210.952</td>\n",
       "      <td>207.70</td>\n",
       "    </tr>\n",
       "    <tr>\n",
       "      <th>2018-08-10 00:00:00</th>\n",
       "      <td>207.53</td>\n",
       "      <td>24592460.0000</td>\n",
       "      <td>207.360</td>\n",
       "      <td>209.100</td>\n",
       "      <td>206.67</td>\n",
       "    </tr>\n",
       "    <tr>\n",
       "      <th>2018-08-09 00:00:00</th>\n",
       "      <td>208.88</td>\n",
       "      <td>23389530.0000</td>\n",
       "      <td>207.280</td>\n",
       "      <td>209.780</td>\n",
       "      <td>207.20</td>\n",
       "    </tr>\n",
       "  </tbody>\n",
       "</table>\n",
       "<p>253 rows × 5 columns</p>\n",
       "</div>"
      ],
      "text/plain": [
       "                      close         volume     open     high     low\n",
       "date                                                                \n",
       "2021-03-04 16:00:00  200.99     24,619,446  201.230  202.760  199.29\n",
       "2019-08-09 00:00:00  200.99  24619750.0000  201.300  202.760  199.29\n",
       "2019-08-08 00:00:00  203.43  27009520.0000  200.200  203.530  199.39\n",
       "2019-08-07 00:00:00  199.04  33364400.0000  195.410  199.560  193.82\n",
       "2019-08-06 00:00:00  197.00  35824790.0000  196.310  198.067  194.04\n",
       "...                     ...            ...      ...      ...     ...\n",
       "2018-08-15 00:00:00  210.24  28595230.0000  209.220  210.740  208.33\n",
       "2018-08-14 00:00:00  209.75  20679270.0000  210.155  210.560  208.26\n",
       "2018-08-13 00:00:00  208.87  25864510.0000  207.700  210.952  207.70\n",
       "2018-08-10 00:00:00  207.53  24592460.0000  207.360  209.100  206.67\n",
       "2018-08-09 00:00:00  208.88  23389530.0000  207.280  209.780  207.20\n",
       "\n",
       "[253 rows x 5 columns]"
      ]
     },
     "execution_count": 10,
     "metadata": {},
     "output_type": "execute_result"
    }
   ],
   "source": [
    "df"
   ]
  },
  {
   "cell_type": "code",
   "execution_count": 11,
   "metadata": {},
   "outputs": [
    {
     "data": {
      "text/plain": [
       "DatetimeIndex(['2021-03-04 16:00:00', '2019-08-09 00:00:00',\n",
       "               '2019-08-08 00:00:00', '2019-08-07 00:00:00',\n",
       "               '2019-08-06 00:00:00', '2019-08-05 00:00:00',\n",
       "               '2019-08-02 00:00:00', '2019-08-01 00:00:00',\n",
       "               '2019-07-31 00:00:00', '2019-07-30 00:00:00',\n",
       "               ...\n",
       "               '2018-08-22 00:00:00', '2018-08-21 00:00:00',\n",
       "               '2018-08-20 00:00:00', '2018-08-17 00:00:00',\n",
       "               '2018-08-16 00:00:00', '2018-08-15 00:00:00',\n",
       "               '2018-08-14 00:00:00', '2018-08-13 00:00:00',\n",
       "               '2018-08-10 00:00:00', '2018-08-09 00:00:00'],\n",
       "              dtype='datetime64[ns]', name='date', length=253, freq=None)"
      ]
     },
     "execution_count": 11,
     "metadata": {},
     "output_type": "execute_result"
    }
   ],
   "source": [
    "df.index"
   ]
  },
  {
   "cell_type": "code",
   "execution_count": 12,
   "metadata": {},
   "outputs": [
    {
     "data": {
      "text/html": [
       "<div>\n",
       "<style scoped>\n",
       "    .dataframe tbody tr th:only-of-type {\n",
       "        vertical-align: middle;\n",
       "    }\n",
       "\n",
       "    .dataframe tbody tr th {\n",
       "        vertical-align: top;\n",
       "    }\n",
       "\n",
       "    .dataframe thead th {\n",
       "        text-align: right;\n",
       "    }\n",
       "</style>\n",
       "<table border=\"1\" class=\"dataframe\">\n",
       "  <thead>\n",
       "    <tr style=\"text-align: right;\">\n",
       "      <th></th>\n",
       "      <th>close</th>\n",
       "      <th>volume</th>\n",
       "      <th>open</th>\n",
       "      <th>high</th>\n",
       "      <th>low</th>\n",
       "    </tr>\n",
       "    <tr>\n",
       "      <th>date</th>\n",
       "      <th></th>\n",
       "      <th></th>\n",
       "      <th></th>\n",
       "      <th></th>\n",
       "      <th></th>\n",
       "    </tr>\n",
       "  </thead>\n",
       "  <tbody>\n",
       "    <tr>\n",
       "      <th>2019-08-09</th>\n",
       "      <td>200.99</td>\n",
       "      <td>24619750.0000</td>\n",
       "      <td>201.300</td>\n",
       "      <td>202.760</td>\n",
       "      <td>199.29</td>\n",
       "    </tr>\n",
       "    <tr>\n",
       "      <th>2019-08-08</th>\n",
       "      <td>203.43</td>\n",
       "      <td>27009520.0000</td>\n",
       "      <td>200.200</td>\n",
       "      <td>203.530</td>\n",
       "      <td>199.39</td>\n",
       "    </tr>\n",
       "    <tr>\n",
       "      <th>2019-08-07</th>\n",
       "      <td>199.04</td>\n",
       "      <td>33364400.0000</td>\n",
       "      <td>195.410</td>\n",
       "      <td>199.560</td>\n",
       "      <td>193.82</td>\n",
       "    </tr>\n",
       "    <tr>\n",
       "      <th>2019-08-06</th>\n",
       "      <td>197.00</td>\n",
       "      <td>35824790.0000</td>\n",
       "      <td>196.310</td>\n",
       "      <td>198.067</td>\n",
       "      <td>194.04</td>\n",
       "    </tr>\n",
       "    <tr>\n",
       "      <th>2019-08-05</th>\n",
       "      <td>193.34</td>\n",
       "      <td>52392970.0000</td>\n",
       "      <td>197.990</td>\n",
       "      <td>198.649</td>\n",
       "      <td>192.58</td>\n",
       "    </tr>\n",
       "    <tr>\n",
       "      <th>...</th>\n",
       "      <td>...</td>\n",
       "      <td>...</td>\n",
       "      <td>...</td>\n",
       "      <td>...</td>\n",
       "      <td>...</td>\n",
       "    </tr>\n",
       "    <tr>\n",
       "      <th>2018-08-15</th>\n",
       "      <td>210.24</td>\n",
       "      <td>28595230.0000</td>\n",
       "      <td>209.220</td>\n",
       "      <td>210.740</td>\n",
       "      <td>208.33</td>\n",
       "    </tr>\n",
       "    <tr>\n",
       "      <th>2018-08-14</th>\n",
       "      <td>209.75</td>\n",
       "      <td>20679270.0000</td>\n",
       "      <td>210.155</td>\n",
       "      <td>210.560</td>\n",
       "      <td>208.26</td>\n",
       "    </tr>\n",
       "    <tr>\n",
       "      <th>2018-08-13</th>\n",
       "      <td>208.87</td>\n",
       "      <td>25864510.0000</td>\n",
       "      <td>207.700</td>\n",
       "      <td>210.952</td>\n",
       "      <td>207.70</td>\n",
       "    </tr>\n",
       "    <tr>\n",
       "      <th>2018-08-10</th>\n",
       "      <td>207.53</td>\n",
       "      <td>24592460.0000</td>\n",
       "      <td>207.360</td>\n",
       "      <td>209.100</td>\n",
       "      <td>206.67</td>\n",
       "    </tr>\n",
       "    <tr>\n",
       "      <th>2018-08-09</th>\n",
       "      <td>208.88</td>\n",
       "      <td>23389530.0000</td>\n",
       "      <td>207.280</td>\n",
       "      <td>209.780</td>\n",
       "      <td>207.20</td>\n",
       "    </tr>\n",
       "  </tbody>\n",
       "</table>\n",
       "<p>252 rows × 5 columns</p>\n",
       "</div>"
      ],
      "text/plain": [
       "             close         volume     open     high     low\n",
       "date                                                       \n",
       "2019-08-09  200.99  24619750.0000  201.300  202.760  199.29\n",
       "2019-08-08  203.43  27009520.0000  200.200  203.530  199.39\n",
       "2019-08-07  199.04  33364400.0000  195.410  199.560  193.82\n",
       "2019-08-06  197.00  35824790.0000  196.310  198.067  194.04\n",
       "2019-08-05  193.34  52392970.0000  197.990  198.649  192.58\n",
       "...            ...            ...      ...      ...     ...\n",
       "2018-08-15  210.24  28595230.0000  209.220  210.740  208.33\n",
       "2018-08-14  209.75  20679270.0000  210.155  210.560  208.26\n",
       "2018-08-13  208.87  25864510.0000  207.700  210.952  207.70\n",
       "2018-08-10  207.53  24592460.0000  207.360  209.100  206.67\n",
       "2018-08-09  208.88  23389530.0000  207.280  209.780  207.20\n",
       "\n",
       "[252 rows x 5 columns]"
      ]
     },
     "execution_count": 12,
     "metadata": {},
     "output_type": "execute_result"
    }
   ],
   "source": [
    "df[\"2019-08\":]"
   ]
  },
  {
   "cell_type": "code",
   "execution_count": 13,
   "metadata": {},
   "outputs": [
    {
     "data": {
      "text/plain": [
       "date\n",
       "2019-08-09    200.99\n",
       "2019-08-08    203.43\n",
       "2019-08-07    199.04\n",
       "2019-08-06    197.00\n",
       "2019-08-05    193.34\n",
       "               ...  \n",
       "2018-08-15    210.24\n",
       "2018-08-14    209.75\n",
       "2018-08-13    208.87\n",
       "2018-08-10    207.53\n",
       "2018-08-09    208.88\n",
       "Name: close, Length: 252, dtype: float64"
      ]
     },
     "execution_count": 13,
     "metadata": {},
     "output_type": "execute_result"
    }
   ],
   "source": [
    "df['2019-08':].close"
   ]
  },
  {
   "cell_type": "code",
   "execution_count": 14,
   "metadata": {},
   "outputs": [
    {
     "data": {
      "text/plain": [
       "193.06051587301587"
      ]
     },
     "execution_count": 14,
     "metadata": {},
     "output_type": "execute_result"
    }
   ],
   "source": [
    "df['2019-08':].close.mean()"
   ]
  },
  {
   "cell_type": "code",
   "execution_count": 15,
   "metadata": {},
   "outputs": [
    {
     "data": {
      "text/plain": [
       "197.0"
      ]
     },
     "execution_count": 15,
     "metadata": {},
     "output_type": "execute_result"
    }
   ],
   "source": [
    "df['2019-08':].close.median()"
   ]
  },
  {
   "cell_type": "code",
   "execution_count": 16,
   "metadata": {},
   "outputs": [
    {
     "data": {
      "text/html": [
       "<div>\n",
       "<style scoped>\n",
       "    .dataframe tbody tr th:only-of-type {\n",
       "        vertical-align: middle;\n",
       "    }\n",
       "\n",
       "    .dataframe tbody tr th {\n",
       "        vertical-align: top;\n",
       "    }\n",
       "\n",
       "    .dataframe thead th {\n",
       "        text-align: right;\n",
       "    }\n",
       "</style>\n",
       "<table border=\"1\" class=\"dataframe\">\n",
       "  <thead>\n",
       "    <tr style=\"text-align: right;\">\n",
       "      <th></th>\n",
       "      <th>close</th>\n",
       "      <th>volume</th>\n",
       "      <th>open</th>\n",
       "      <th>high</th>\n",
       "      <th>low</th>\n",
       "    </tr>\n",
       "    <tr>\n",
       "      <th>date</th>\n",
       "      <th></th>\n",
       "      <th></th>\n",
       "      <th></th>\n",
       "      <th></th>\n",
       "      <th></th>\n",
       "    </tr>\n",
       "  </thead>\n",
       "  <tbody>\n",
       "    <tr>\n",
       "      <th>2019-08-02</th>\n",
       "      <td>204.02</td>\n",
       "      <td>40862120.0000</td>\n",
       "      <td>205.530</td>\n",
       "      <td>206.430</td>\n",
       "      <td>201.6300</td>\n",
       "    </tr>\n",
       "    <tr>\n",
       "      <th>2019-08-01</th>\n",
       "      <td>208.43</td>\n",
       "      <td>54017920.0000</td>\n",
       "      <td>213.900</td>\n",
       "      <td>218.030</td>\n",
       "      <td>206.7435</td>\n",
       "    </tr>\n",
       "    <tr>\n",
       "      <th>2019-07-31</th>\n",
       "      <td>213.04</td>\n",
       "      <td>69281360.0000</td>\n",
       "      <td>216.420</td>\n",
       "      <td>221.370</td>\n",
       "      <td>211.3000</td>\n",
       "    </tr>\n",
       "    <tr>\n",
       "      <th>2019-07-30</th>\n",
       "      <td>208.78</td>\n",
       "      <td>33935720.0000</td>\n",
       "      <td>208.760</td>\n",
       "      <td>210.160</td>\n",
       "      <td>207.3100</td>\n",
       "    </tr>\n",
       "    <tr>\n",
       "      <th>2019-07-29</th>\n",
       "      <td>209.68</td>\n",
       "      <td>21673390.0000</td>\n",
       "      <td>208.460</td>\n",
       "      <td>210.640</td>\n",
       "      <td>208.4400</td>\n",
       "    </tr>\n",
       "    <tr>\n",
       "      <th>...</th>\n",
       "      <td>...</td>\n",
       "      <td>...</td>\n",
       "      <td>...</td>\n",
       "      <td>...</td>\n",
       "      <td>...</td>\n",
       "    </tr>\n",
       "    <tr>\n",
       "      <th>2018-08-15</th>\n",
       "      <td>210.24</td>\n",
       "      <td>28595230.0000</td>\n",
       "      <td>209.220</td>\n",
       "      <td>210.740</td>\n",
       "      <td>208.3300</td>\n",
       "    </tr>\n",
       "    <tr>\n",
       "      <th>2018-08-14</th>\n",
       "      <td>209.75</td>\n",
       "      <td>20679270.0000</td>\n",
       "      <td>210.155</td>\n",
       "      <td>210.560</td>\n",
       "      <td>208.2600</td>\n",
       "    </tr>\n",
       "    <tr>\n",
       "      <th>2018-08-13</th>\n",
       "      <td>208.87</td>\n",
       "      <td>25864510.0000</td>\n",
       "      <td>207.700</td>\n",
       "      <td>210.952</td>\n",
       "      <td>207.7000</td>\n",
       "    </tr>\n",
       "    <tr>\n",
       "      <th>2018-08-10</th>\n",
       "      <td>207.53</td>\n",
       "      <td>24592460.0000</td>\n",
       "      <td>207.360</td>\n",
       "      <td>209.100</td>\n",
       "      <td>206.6700</td>\n",
       "    </tr>\n",
       "    <tr>\n",
       "      <th>2018-08-09</th>\n",
       "      <td>208.88</td>\n",
       "      <td>23389530.0000</td>\n",
       "      <td>207.280</td>\n",
       "      <td>209.780</td>\n",
       "      <td>207.2000</td>\n",
       "    </tr>\n",
       "  </tbody>\n",
       "</table>\n",
       "<p>247 rows × 5 columns</p>\n",
       "</div>"
      ],
      "text/plain": [
       "             close         volume     open     high       low\n",
       "date                                                         \n",
       "2019-08-02  204.02  40862120.0000  205.530  206.430  201.6300\n",
       "2019-08-01  208.43  54017920.0000  213.900  218.030  206.7435\n",
       "2019-07-31  213.04  69281360.0000  216.420  221.370  211.3000\n",
       "2019-07-30  208.78  33935720.0000  208.760  210.160  207.3100\n",
       "2019-07-29  209.68  21673390.0000  208.460  210.640  208.4400\n",
       "...            ...            ...      ...      ...       ...\n",
       "2018-08-15  210.24  28595230.0000  209.220  210.740  208.3300\n",
       "2018-08-14  209.75  20679270.0000  210.155  210.560  208.2600\n",
       "2018-08-13  208.87  25864510.0000  207.700  210.952  207.7000\n",
       "2018-08-10  207.53  24592460.0000  207.360  209.100  206.6700\n",
       "2018-08-09  208.88  23389530.0000  207.280  209.780  207.2000\n",
       "\n",
       "[247 rows x 5 columns]"
      ]
     },
     "execution_count": 16,
     "metadata": {},
     "output_type": "execute_result"
    }
   ],
   "source": [
    "df['2019-08-02':]"
   ]
  },
  {
   "cell_type": "code",
   "execution_count": 17,
   "metadata": {},
   "outputs": [
    {
     "data": {
      "text/html": [
       "<div>\n",
       "<style scoped>\n",
       "    .dataframe tbody tr th:only-of-type {\n",
       "        vertical-align: middle;\n",
       "    }\n",
       "\n",
       "    .dataframe tbody tr th {\n",
       "        vertical-align: top;\n",
       "    }\n",
       "\n",
       "    .dataframe thead th {\n",
       "        text-align: right;\n",
       "    }\n",
       "</style>\n",
       "<table border=\"1\" class=\"dataframe\">\n",
       "  <thead>\n",
       "    <tr style=\"text-align: right;\">\n",
       "      <th></th>\n",
       "      <th>close</th>\n",
       "      <th>volume</th>\n",
       "      <th>open</th>\n",
       "      <th>high</th>\n",
       "      <th>low</th>\n",
       "    </tr>\n",
       "    <tr>\n",
       "      <th>date</th>\n",
       "      <th></th>\n",
       "      <th></th>\n",
       "      <th></th>\n",
       "      <th></th>\n",
       "      <th></th>\n",
       "    </tr>\n",
       "  </thead>\n",
       "  <tbody>\n",
       "    <tr>\n",
       "      <th>2019-08-09</th>\n",
       "      <td>200.99</td>\n",
       "      <td>24619750.0000</td>\n",
       "      <td>201.30</td>\n",
       "      <td>202.7600</td>\n",
       "      <td>199.2900</td>\n",
       "    </tr>\n",
       "    <tr>\n",
       "      <th>2019-08-08</th>\n",
       "      <td>203.43</td>\n",
       "      <td>27009520.0000</td>\n",
       "      <td>200.20</td>\n",
       "      <td>203.5300</td>\n",
       "      <td>199.3900</td>\n",
       "    </tr>\n",
       "    <tr>\n",
       "      <th>2019-08-07</th>\n",
       "      <td>199.04</td>\n",
       "      <td>33364400.0000</td>\n",
       "      <td>195.41</td>\n",
       "      <td>199.5600</td>\n",
       "      <td>193.8200</td>\n",
       "    </tr>\n",
       "    <tr>\n",
       "      <th>2019-08-06</th>\n",
       "      <td>197.00</td>\n",
       "      <td>35824790.0000</td>\n",
       "      <td>196.31</td>\n",
       "      <td>198.0670</td>\n",
       "      <td>194.0400</td>\n",
       "    </tr>\n",
       "    <tr>\n",
       "      <th>2019-08-05</th>\n",
       "      <td>193.34</td>\n",
       "      <td>52392970.0000</td>\n",
       "      <td>197.99</td>\n",
       "      <td>198.6490</td>\n",
       "      <td>192.5800</td>\n",
       "    </tr>\n",
       "    <tr>\n",
       "      <th>2019-08-02</th>\n",
       "      <td>204.02</td>\n",
       "      <td>40862120.0000</td>\n",
       "      <td>205.53</td>\n",
       "      <td>206.4300</td>\n",
       "      <td>201.6300</td>\n",
       "    </tr>\n",
       "    <tr>\n",
       "      <th>2019-08-01</th>\n",
       "      <td>208.43</td>\n",
       "      <td>54017920.0000</td>\n",
       "      <td>213.90</td>\n",
       "      <td>218.0300</td>\n",
       "      <td>206.7435</td>\n",
       "    </tr>\n",
       "    <tr>\n",
       "      <th>2019-07-31</th>\n",
       "      <td>213.04</td>\n",
       "      <td>69281360.0000</td>\n",
       "      <td>216.42</td>\n",
       "      <td>221.3700</td>\n",
       "      <td>211.3000</td>\n",
       "    </tr>\n",
       "    <tr>\n",
       "      <th>2019-07-30</th>\n",
       "      <td>208.78</td>\n",
       "      <td>33935720.0000</td>\n",
       "      <td>208.76</td>\n",
       "      <td>210.1600</td>\n",
       "      <td>207.3100</td>\n",
       "    </tr>\n",
       "    <tr>\n",
       "      <th>2019-07-29</th>\n",
       "      <td>209.68</td>\n",
       "      <td>21673390.0000</td>\n",
       "      <td>208.46</td>\n",
       "      <td>210.6400</td>\n",
       "      <td>208.4400</td>\n",
       "    </tr>\n",
       "    <tr>\n",
       "      <th>2019-07-26</th>\n",
       "      <td>207.74</td>\n",
       "      <td>17618870.0000</td>\n",
       "      <td>207.48</td>\n",
       "      <td>209.7300</td>\n",
       "      <td>207.1400</td>\n",
       "    </tr>\n",
       "    <tr>\n",
       "      <th>2019-07-25</th>\n",
       "      <td>207.02</td>\n",
       "      <td>13909560.0000</td>\n",
       "      <td>208.89</td>\n",
       "      <td>209.2400</td>\n",
       "      <td>206.7300</td>\n",
       "    </tr>\n",
       "    <tr>\n",
       "      <th>2019-07-24</th>\n",
       "      <td>208.67</td>\n",
       "      <td>14991570.0000</td>\n",
       "      <td>207.67</td>\n",
       "      <td>209.1500</td>\n",
       "      <td>207.1700</td>\n",
       "    </tr>\n",
       "    <tr>\n",
       "      <th>2019-07-23</th>\n",
       "      <td>208.84</td>\n",
       "      <td>18355210.0000</td>\n",
       "      <td>208.46</td>\n",
       "      <td>208.9100</td>\n",
       "      <td>207.2900</td>\n",
       "    </tr>\n",
       "    <tr>\n",
       "      <th>2019-07-22</th>\n",
       "      <td>207.22</td>\n",
       "      <td>22277930.0000</td>\n",
       "      <td>203.65</td>\n",
       "      <td>207.2300</td>\n",
       "      <td>203.6100</td>\n",
       "    </tr>\n",
       "    <tr>\n",
       "      <th>2019-07-19</th>\n",
       "      <td>202.59</td>\n",
       "      <td>20929310.0000</td>\n",
       "      <td>205.79</td>\n",
       "      <td>206.5000</td>\n",
       "      <td>202.3600</td>\n",
       "    </tr>\n",
       "    <tr>\n",
       "      <th>2019-07-18</th>\n",
       "      <td>205.66</td>\n",
       "      <td>18582160.0000</td>\n",
       "      <td>204.00</td>\n",
       "      <td>205.8800</td>\n",
       "      <td>203.7000</td>\n",
       "    </tr>\n",
       "    <tr>\n",
       "      <th>2019-07-17</th>\n",
       "      <td>203.35</td>\n",
       "      <td>14107450.0000</td>\n",
       "      <td>204.05</td>\n",
       "      <td>205.0915</td>\n",
       "      <td>203.2700</td>\n",
       "    </tr>\n",
       "    <tr>\n",
       "      <th>2019-07-16</th>\n",
       "      <td>204.50</td>\n",
       "      <td>16866820.0000</td>\n",
       "      <td>204.59</td>\n",
       "      <td>206.1100</td>\n",
       "      <td>203.5000</td>\n",
       "    </tr>\n",
       "    <tr>\n",
       "      <th>2019-07-15</th>\n",
       "      <td>205.21</td>\n",
       "      <td>16947420.0000</td>\n",
       "      <td>204.09</td>\n",
       "      <td>205.8700</td>\n",
       "      <td>204.0000</td>\n",
       "    </tr>\n",
       "    <tr>\n",
       "      <th>2019-07-12</th>\n",
       "      <td>203.30</td>\n",
       "      <td>17595210.0000</td>\n",
       "      <td>202.45</td>\n",
       "      <td>204.0000</td>\n",
       "      <td>202.2000</td>\n",
       "    </tr>\n",
       "    <tr>\n",
       "      <th>2019-07-11</th>\n",
       "      <td>201.75</td>\n",
       "      <td>20191840.0000</td>\n",
       "      <td>203.31</td>\n",
       "      <td>204.3900</td>\n",
       "      <td>201.7100</td>\n",
       "    </tr>\n",
       "    <tr>\n",
       "      <th>2019-07-10</th>\n",
       "      <td>203.23</td>\n",
       "      <td>17897140.0000</td>\n",
       "      <td>201.85</td>\n",
       "      <td>203.7300</td>\n",
       "      <td>201.5600</td>\n",
       "    </tr>\n",
       "    <tr>\n",
       "      <th>2019-07-09</th>\n",
       "      <td>201.24</td>\n",
       "      <td>20578020.0000</td>\n",
       "      <td>199.20</td>\n",
       "      <td>201.5100</td>\n",
       "      <td>198.8100</td>\n",
       "    </tr>\n",
       "  </tbody>\n",
       "</table>\n",
       "</div>"
      ],
      "text/plain": [
       "             close         volume    open      high       low\n",
       "date                                                         \n",
       "2019-08-09  200.99  24619750.0000  201.30  202.7600  199.2900\n",
       "2019-08-08  203.43  27009520.0000  200.20  203.5300  199.3900\n",
       "2019-08-07  199.04  33364400.0000  195.41  199.5600  193.8200\n",
       "2019-08-06  197.00  35824790.0000  196.31  198.0670  194.0400\n",
       "2019-08-05  193.34  52392970.0000  197.99  198.6490  192.5800\n",
       "2019-08-02  204.02  40862120.0000  205.53  206.4300  201.6300\n",
       "2019-08-01  208.43  54017920.0000  213.90  218.0300  206.7435\n",
       "2019-07-31  213.04  69281360.0000  216.42  221.3700  211.3000\n",
       "2019-07-30  208.78  33935720.0000  208.76  210.1600  207.3100\n",
       "2019-07-29  209.68  21673390.0000  208.46  210.6400  208.4400\n",
       "2019-07-26  207.74  17618870.0000  207.48  209.7300  207.1400\n",
       "2019-07-25  207.02  13909560.0000  208.89  209.2400  206.7300\n",
       "2019-07-24  208.67  14991570.0000  207.67  209.1500  207.1700\n",
       "2019-07-23  208.84  18355210.0000  208.46  208.9100  207.2900\n",
       "2019-07-22  207.22  22277930.0000  203.65  207.2300  203.6100\n",
       "2019-07-19  202.59  20929310.0000  205.79  206.5000  202.3600\n",
       "2019-07-18  205.66  18582160.0000  204.00  205.8800  203.7000\n",
       "2019-07-17  203.35  14107450.0000  204.05  205.0915  203.2700\n",
       "2019-07-16  204.50  16866820.0000  204.59  206.1100  203.5000\n",
       "2019-07-15  205.21  16947420.0000  204.09  205.8700  204.0000\n",
       "2019-07-12  203.30  17595210.0000  202.45  204.0000  202.2000\n",
       "2019-07-11  201.75  20191840.0000  203.31  204.3900  201.7100\n",
       "2019-07-10  203.23  17897140.0000  201.85  203.7300  201.5600\n",
       "2019-07-09  201.24  20578020.0000  199.20  201.5100  198.8100"
      ]
     },
     "execution_count": 17,
     "metadata": {},
     "output_type": "execute_result"
    }
   ],
   "source": [
    "df['2019-08-09':'2019-07-09'] "
   ]
  },
  {
   "cell_type": "code",
   "execution_count": 18,
   "metadata": {},
   "outputs": [
    {
     "data": {
      "text/plain": [
       "date\n",
       "2018-08-31    215.685294\n",
       "2018-09-30    222.073684\n",
       "2018-10-31    220.845652\n",
       "2018-11-30    191.235714\n",
       "2018-12-31    164.266316\n",
       "2019-01-31    154.166190\n",
       "2019-02-28    171.727895\n",
       "2019-03-31    183.293810\n",
       "2019-04-30    200.516190\n",
       "2019-05-31    191.273636\n",
       "2019-06-30    192.969000\n",
       "2019-07-31    205.216364\n",
       "2019-08-31    200.892857\n",
       "2019-09-30           NaN\n",
       "2019-10-31           NaN\n",
       "2019-11-30           NaN\n",
       "2019-12-31           NaN\n",
       "2020-01-31           NaN\n",
       "2020-02-29           NaN\n",
       "2020-03-31           NaN\n",
       "2020-04-30           NaN\n",
       "2020-05-31           NaN\n",
       "2020-06-30           NaN\n",
       "2020-07-31           NaN\n",
       "2020-08-31           NaN\n",
       "2020-09-30           NaN\n",
       "2020-10-31           NaN\n",
       "2020-11-30           NaN\n",
       "2020-12-31           NaN\n",
       "2021-01-31           NaN\n",
       "2021-02-28           NaN\n",
       "2021-03-31    200.990000\n",
       "Freq: M, Name: close, dtype: float64"
      ]
     },
     "execution_count": 18,
     "metadata": {},
     "output_type": "execute_result"
    }
   ],
   "source": [
    "df.close.resample(\"M\").mean()"
   ]
  },
  {
   "cell_type": "code",
   "execution_count": 19,
   "metadata": {},
   "outputs": [
    {
     "data": {
      "text/plain": [
       "<AxesSubplot:xlabel='date'>"
      ]
     },
     "execution_count": 19,
     "metadata": {},
     "output_type": "execute_result"
    },
    {
     "data": {
      "image/png": "[encoded data removed]",
      "text/plain": [
       "<Figure size 432x288 with 1 Axes>"
      ]
     },
     "metadata": {
      "needs_background": "light"
     },
     "output_type": "display_data"
    }
   ],
   "source": [
    "%matplotlib inline\n",
    "df.close.resample(\"M\").mean().plot()"
   ]
  },
  {
   "cell_type": "code",
   "execution_count": 20,
   "metadata": {},
   "outputs": [
    {
     "data": {
      "text/plain": [
       "<AxesSubplot:xlabel='date'>"
      ]
     },
     "execution_count": 20,
     "metadata": {},
     "output_type": "execute_result"
    },
    {
     "data": {
      "image/png": "[encoded data removed]",
      "text/plain": [
       "<Figure size 432x288 with 1 Axes>"
      ]
     },
     "metadata": {
      "needs_background": "light"
     },
     "output_type": "display_data"
    }
   ],
   "source": [
    "df.close.resample(\"W\").mean().plot()"
   ]
  },
  {
   "cell_type": "code",
   "execution_count": 21,
   "metadata": {},
   "outputs": [
    {
     "data": {
      "text/plain": [
       "<AxesSubplot:xlabel='date'>"
      ]
     },
     "execution_count": 21,
     "metadata": {},
     "output_type": "execute_result"
    },
    {
     "data": {
      "image/png": "[encoded data removed]",
      "text/plain": [
       "<Figure size 432x288 with 1 Axes>"
      ]
     },
     "metadata": {
      "needs_background": "light"
     },
     "output_type": "display_data"
    }
   ],
   "source": [
    "df.close.resample(\"D\").mean().plot()"
   ]
  },
  {
   "cell_type": "code",
   "execution_count": 22,
   "metadata": {},
   "outputs": [
    {
     "data": {
      "image/png": "[encoded data removed]",
      "text/plain": [
       "<Figure size 432x288 with 1 Axes>"
      ]
     },
     "metadata": {
      "needs_background": "light"
     },
     "output_type": "display_data"
    }
   ],
   "source": [
    "Quarterly_resampled_data = df.open.resample('Q').mean().plot()"
   ]
  },
  {
   "cell_type": "code",
   "execution_count": 23,
   "metadata": {},
   "outputs": [],
   "source": [
    "x=pd.Series(range(3), index=pd.date_range('2019', freq='D', periods=3))"
   ]
  },
  {
   "cell_type": "code",
   "execution_count": 24,
   "metadata": {},
   "outputs": [
    {
     "data": {
      "text/plain": [
       "2019-01-01    0\n",
       "2019-01-02    1\n",
       "2019-01-03    2\n",
       "Freq: D, dtype: int64"
      ]
     },
     "execution_count": 24,
     "metadata": {},
     "output_type": "execute_result"
    }
   ],
   "source": [
    "x"
   ]
  },
  {
   "cell_type": "code",
   "execution_count": 25,
   "metadata": {},
   "outputs": [
    {
     "data": {
      "text/plain": [
       "2019-01-01    0\n",
       "2019-01-02    1\n",
       "2019-01-03    2\n",
       "Freq: D, dtype: int64"
      ]
     },
     "execution_count": 25,
     "metadata": {},
     "output_type": "execute_result"
    }
   ],
   "source": [
    "mx=pd.Series(range(3), index=pd.date_range('2019', freq='D', periods=3))\n",
    "x"
   ]
  },
  {
   "cell_type": "code",
   "execution_count": 26,
   "metadata": {},
   "outputs": [
    {
     "data": {
      "text/plain": [
       "<AxesSubplot:xlabel='date'>"
      ]
     },
     "execution_count": 26,
     "metadata": {},
     "output_type": "execute_result"
    },
    {
     "data": {
      "image/png": "[encoded data removed]",
      "text/plain": [
       "<Figure size 432x288 with 1 Axes>"
      ]
     },
     "metadata": {
      "needs_background": "light"
     },
     "output_type": "display_data"
    }
   ],
   "source": [
    "df.open.resample('QS').mean().plot()"
   ]
  },
  {
   "cell_type": "code",
   "execution_count": 27,
   "metadata": {},
   "outputs": [
    {
     "data": {
      "text/plain": [
       "<pandas.core.resample.DatetimeIndexResampler object at 0x00000215B7BCFB80>"
      ]
     },
     "execution_count": 27,
     "metadata": {},
     "output_type": "execute_result"
    }
   ],
   "source": [
    "df.open.resample('BH')"
   ]
  },
  {
   "cell_type": "code",
   "execution_count": 28,
   "metadata": {},
   "outputs": [
    {
     "data": {
      "text/plain": [
       "<AxesSubplot:xlabel='date'>"
      ]
     },
     "execution_count": 28,
     "metadata": {},
     "output_type": "execute_result"
    },
    {
     "data": {
      "image/png": "[encoded data removed]",
      "text/plain": [
       "<Figure size 432x288 with 1 Axes>"
      ]
     },
     "metadata": {
      "needs_background": "light"
     },
     "output_type": "display_data"
    }
   ],
   "source": [
    "df.open.resample('BQ').mean().plot()  # Mean()"
   ]
  },
  {
   "cell_type": "code",
   "execution_count": 29,
   "metadata": {},
   "outputs": [
    {
     "data": {
      "text/plain": [
       "date\n",
       "2018-09-28    AxesSubplot(0.125,0.2;0.775x0.68)\n",
       "2018-12-31    AxesSubplot(0.125,0.2;0.775x0.68)\n",
       "2019-03-29    AxesSubplot(0.125,0.2;0.775x0.68)\n",
       "2019-06-28    AxesSubplot(0.125,0.2;0.775x0.68)\n",
       "2019-09-30    AxesSubplot(0.125,0.2;0.775x0.68)\n",
       "2019-12-31    AxesSubplot(0.125,0.2;0.775x0.68)\n",
       "2020-03-31    AxesSubplot(0.125,0.2;0.775x0.68)\n",
       "2020-06-30    AxesSubplot(0.125,0.2;0.775x0.68)\n",
       "2020-09-30    AxesSubplot(0.125,0.2;0.775x0.68)\n",
       "2020-12-31    AxesSubplot(0.125,0.2;0.775x0.68)\n",
       "2021-03-31    AxesSubplot(0.125,0.2;0.775x0.68)\n",
       "Freq: BQ-DEC, Name: open, dtype: object"
      ]
     },
     "execution_count": 29,
     "metadata": {},
     "output_type": "execute_result"
    },
    {
     "data": {
      "image/png": "[encoded data removed]",
      "text/plain": [
       "<Figure size 432x288 with 1 Axes>"
      ]
     },
     "metadata": {
      "needs_background": "light"
     },
     "output_type": "display_data"
    }
   ],
   "source": [
    "df.open.resample('BQ').plot()"
   ]
  },
  {
   "cell_type": "code",
   "execution_count": 30,
   "metadata": {},
   "outputs": [
    {
     "data": {
      "text/plain": [
       "<AxesSubplot:xlabel='date'>"
      ]
     },
     "execution_count": 30,
     "metadata": {},
     "output_type": "execute_result"
    },
    {
     "data": {
      "image/png": "[encoded data removed]",
      "text/plain": [
       "<Figure size 432x288 with 1 Axes>"
      ]
     },
     "metadata": {
      "needs_background": "light"
     },
     "output_type": "display_data"
    }
   ],
   "source": [
    "df.open.resample('Y').mean().plot()"
   ]
  },
  {
   "cell_type": "code",
   "execution_count": 31,
   "metadata": {},
   "outputs": [
    {
     "data": {
      "text/plain": [
       "<AxesSubplot:xlabel='date'>"
      ]
     },
     "execution_count": 31,
     "metadata": {},
     "output_type": "execute_result"
    },
    {
     "data": {
      "image/png": "[encoded data removed]",
      "text/plain": [
       "<Figure size 432x288 with 1 Axes>"
      ]
     },
     "metadata": {
      "needs_background": "light"
     },
     "output_type": "display_data"
    }
   ],
   "source": [
    "df.open.resample('M').mean().plot()"
   ]
  },
  {
   "cell_type": "code",
   "execution_count": 32,
   "metadata": {},
   "outputs": [
    {
     "data": {
      "text/plain": [
       "<AxesSubplot:xlabel='date'>"
      ]
     },
     "execution_count": 32,
     "metadata": {},
     "output_type": "execute_result"
    },
    {
     "data": {
      "image/png": "[encoded data removed]",
      "text/plain": [
       "<Figure size 432x288 with 1 Axes>"
      ]
     },
     "metadata": {
      "needs_background": "light"
     },
     "output_type": "display_data"
    }
   ],
   "source": [
    "df.open.resample('M').mean().plot(kind=\"bar\")  ## space due to NAN values"
   ]
  },
  {
   "cell_type": "code",
   "execution_count": 33,
   "metadata": {},
   "outputs": [],
   "source": [
    "rng=pd.date_range(start=\"2018-08-09\", end=\"2019/08/09\",freq=\"B\")"
   ]
  },
  {
   "cell_type": "code",
   "execution_count": 34,
   "metadata": {},
   "outputs": [
    {
     "data": {
      "text/plain": [
       "DatetimeIndex(['2018-08-09', '2018-08-10', '2018-08-13', '2018-08-14',\n",
       "               '2018-08-15', '2018-08-16', '2018-08-17', '2018-08-20',\n",
       "               '2018-08-21', '2018-08-22',\n",
       "               ...\n",
       "               '2019-07-29', '2019-07-30', '2019-07-31', '2019-08-01',\n",
       "               '2019-08-02', '2019-08-05', '2019-08-06', '2019-08-07',\n",
       "               '2019-08-08', '2019-08-09'],\n",
       "              dtype='datetime64[ns]', length=262, freq='B')"
      ]
     },
     "execution_count": 34,
     "metadata": {},
     "output_type": "execute_result"
    }
   ],
   "source": [
    "rng"
   ]
  },
  {
   "cell_type": "code",
   "execution_count": 35,
   "metadata": {},
   "outputs": [
    {
     "data": {
      "text/html": [
       "<div>\n",
       "<style scoped>\n",
       "    .dataframe tbody tr th:only-of-type {\n",
       "        vertical-align: middle;\n",
       "    }\n",
       "\n",
       "    .dataframe tbody tr th {\n",
       "        vertical-align: top;\n",
       "    }\n",
       "\n",
       "    .dataframe thead th {\n",
       "        text-align: right;\n",
       "    }\n",
       "</style>\n",
       "<table border=\"1\" class=\"dataframe\">\n",
       "  <thead>\n",
       "    <tr style=\"text-align: right;\">\n",
       "      <th></th>\n",
       "      <th>close</th>\n",
       "      <th>volume</th>\n",
       "      <th>open</th>\n",
       "      <th>high</th>\n",
       "      <th>low</th>\n",
       "    </tr>\n",
       "    <tr>\n",
       "      <th>date</th>\n",
       "      <th></th>\n",
       "      <th></th>\n",
       "      <th></th>\n",
       "      <th></th>\n",
       "      <th></th>\n",
       "    </tr>\n",
       "  </thead>\n",
       "  <tbody>\n",
       "    <tr>\n",
       "      <th>2018-12-07</th>\n",
       "      <td>168.49</td>\n",
       "      <td>41678680.0000</td>\n",
       "      <td>173.490</td>\n",
       "      <td>174.4900</td>\n",
       "      <td>168.30</td>\n",
       "    </tr>\n",
       "    <tr>\n",
       "      <th>2018-12-06</th>\n",
       "      <td>174.72</td>\n",
       "      <td>42704910.0000</td>\n",
       "      <td>171.760</td>\n",
       "      <td>174.7800</td>\n",
       "      <td>170.42</td>\n",
       "    </tr>\n",
       "    <tr>\n",
       "      <th>2018-12-04</th>\n",
       "      <td>176.69</td>\n",
       "      <td>41141250.0000</td>\n",
       "      <td>180.950</td>\n",
       "      <td>182.3899</td>\n",
       "      <td>176.27</td>\n",
       "    </tr>\n",
       "    <tr>\n",
       "      <th>2018-12-03</th>\n",
       "      <td>184.82</td>\n",
       "      <td>40537700.0000</td>\n",
       "      <td>184.460</td>\n",
       "      <td>184.9400</td>\n",
       "      <td>181.21</td>\n",
       "    </tr>\n",
       "    <tr>\n",
       "      <th>2018-11-30</th>\n",
       "      <td>178.58</td>\n",
       "      <td>39424260.0000</td>\n",
       "      <td>180.290</td>\n",
       "      <td>180.3300</td>\n",
       "      <td>177.03</td>\n",
       "    </tr>\n",
       "    <tr>\n",
       "      <th>...</th>\n",
       "      <td>...</td>\n",
       "      <td>...</td>\n",
       "      <td>...</td>\n",
       "      <td>...</td>\n",
       "      <td>...</td>\n",
       "    </tr>\n",
       "    <tr>\n",
       "      <th>2018-08-15</th>\n",
       "      <td>210.24</td>\n",
       "      <td>28595230.0000</td>\n",
       "      <td>209.220</td>\n",
       "      <td>210.7400</td>\n",
       "      <td>208.33</td>\n",
       "    </tr>\n",
       "    <tr>\n",
       "      <th>2018-08-14</th>\n",
       "      <td>209.75</td>\n",
       "      <td>20679270.0000</td>\n",
       "      <td>210.155</td>\n",
       "      <td>210.5600</td>\n",
       "      <td>208.26</td>\n",
       "    </tr>\n",
       "    <tr>\n",
       "      <th>2018-08-13</th>\n",
       "      <td>208.87</td>\n",
       "      <td>25864510.0000</td>\n",
       "      <td>207.700</td>\n",
       "      <td>210.9520</td>\n",
       "      <td>207.70</td>\n",
       "    </tr>\n",
       "    <tr>\n",
       "      <th>2018-08-10</th>\n",
       "      <td>207.53</td>\n",
       "      <td>24592460.0000</td>\n",
       "      <td>207.360</td>\n",
       "      <td>209.1000</td>\n",
       "      <td>206.67</td>\n",
       "    </tr>\n",
       "    <tr>\n",
       "      <th>2018-08-09</th>\n",
       "      <td>208.88</td>\n",
       "      <td>23389530.0000</td>\n",
       "      <td>207.280</td>\n",
       "      <td>209.7800</td>\n",
       "      <td>207.20</td>\n",
       "    </tr>\n",
       "  </tbody>\n",
       "</table>\n",
       "<p>84 rows × 5 columns</p>\n",
       "</div>"
      ],
      "text/plain": [
       "             close         volume     open      high     low\n",
       "date                                                        \n",
       "2018-12-07  168.49  41678680.0000  173.490  174.4900  168.30\n",
       "2018-12-06  174.72  42704910.0000  171.760  174.7800  170.42\n",
       "2018-12-04  176.69  41141250.0000  180.950  182.3899  176.27\n",
       "2018-12-03  184.82  40537700.0000  184.460  184.9400  181.21\n",
       "2018-11-30  178.58  39424260.0000  180.290  180.3300  177.03\n",
       "...            ...            ...      ...       ...     ...\n",
       "2018-08-15  210.24  28595230.0000  209.220  210.7400  208.33\n",
       "2018-08-14  209.75  20679270.0000  210.155  210.5600  208.26\n",
       "2018-08-13  208.87  25864510.0000  207.700  210.9520  207.70\n",
       "2018-08-10  207.53  24592460.0000  207.360  209.1000  206.67\n",
       "2018-08-09  208.88  23389530.0000  207.280  209.7800  207.20\n",
       "\n",
       "[84 rows x 5 columns]"
      ]
     },
     "execution_count": 35,
     "metadata": {},
     "output_type": "execute_result"
    }
   ],
   "source": [
    "df[\"2018-12-09\" :\"2018-08-09\"]"
   ]
  },
  {
   "cell_type": "code",
   "execution_count": 36,
   "metadata": {},
   "outputs": [
    {
     "data": {
      "text/plain": [
       "191.20864628820956"
      ]
     },
     "execution_count": 36,
     "metadata": {},
     "output_type": "execute_result"
    }
   ],
   "source": [
    "%matplotlib inline\n",
    "df[\"2019-08-01\" :\"2018-09-01\"].close.mean()"
   ]
  },
  {
   "cell_type": "code",
   "execution_count": 37,
   "metadata": {},
   "outputs": [],
   "source": [
    "rng=pd.date_range(start=\"2018-08-09\", periods=100,freq=\"B\")"
   ]
  },
  {
   "cell_type": "code",
   "execution_count": 38,
   "metadata": {},
   "outputs": [
    {
     "data": {
      "text/plain": [
       "DatetimeIndex(['2018-08-09', '2018-08-10', '2018-08-13', '2018-08-14',\n",
       "               '2018-08-15', '2018-08-16', '2018-08-17', '2018-08-20',\n",
       "               '2018-08-21', '2018-08-22', '2018-08-23', '2018-08-24',\n",
       "               '2018-08-27', '2018-08-28', '2018-08-29', '2018-08-30',\n",
       "               '2018-08-31', '2018-09-03', '2018-09-04', '2018-09-05',\n",
       "               '2018-09-06', '2018-09-07', '2018-09-10', '2018-09-11',\n",
       "               '2018-09-12', '2018-09-13', '2018-09-14', '2018-09-17',\n",
       "               '2018-09-18', '2018-09-19', '2018-09-20', '2018-09-21',\n",
       "               '2018-09-24', '2018-09-25', '2018-09-26', '2018-09-27',\n",
       "               '2018-09-28', '2018-10-01', '2018-10-02', '2018-10-03',\n",
       "               '2018-10-04', '2018-10-05', '2018-10-08', '2018-10-09',\n",
       "               '2018-10-10', '2018-10-11', '2018-10-12', '2018-10-15',\n",
       "               '2018-10-16', '2018-10-17', '2018-10-18', '2018-10-19',\n",
       "               '2018-10-22', '2018-10-23', '2018-10-24', '2018-10-25',\n",
       "               '2018-10-26', '2018-10-29', '2018-10-30', '2018-10-31',\n",
       "               '2018-11-01', '2018-11-02', '2018-11-05', '2018-11-06',\n",
       "               '2018-11-07', '2018-11-08', '2018-11-09', '2018-11-12',\n",
       "               '2018-11-13', '2018-11-14', '2018-11-15', '2018-11-16',\n",
       "               '2018-11-19', '2018-11-20', '2018-11-21', '2018-11-22',\n",
       "               '2018-11-23', '2018-11-26', '2018-11-27', '2018-11-28',\n",
       "               '2018-11-29', '2018-11-30', '2018-12-03', '2018-12-04',\n",
       "               '2018-12-05', '2018-12-06', '2018-12-07', '2018-12-10',\n",
       "               '2018-12-11', '2018-12-12', '2018-12-13', '2018-12-14',\n",
       "               '2018-12-17', '2018-12-18', '2018-12-19', '2018-12-20',\n",
       "               '2018-12-21', '2018-12-24', '2018-12-25', '2018-12-26'],\n",
       "              dtype='datetime64[ns]', freq='B')"
      ]
     },
     "execution_count": 38,
     "metadata": {},
     "output_type": "execute_result"
    }
   ],
   "source": [
    "rng"
   ]
  },
  {
   "cell_type": "code",
   "execution_count": 39,
   "metadata": {},
   "outputs": [
    {
     "data": {
      "text/plain": [
       "DatetimeIndex(['2018-08-09 00:00:00', '2018-08-09 01:00:00',\n",
       "               '2018-08-09 02:00:00', '2018-08-09 03:00:00',\n",
       "               '2018-08-09 04:00:00', '2018-08-09 05:00:00',\n",
       "               '2018-08-09 06:00:00', '2018-08-09 07:00:00',\n",
       "               '2018-08-09 08:00:00', '2018-08-09 09:00:00',\n",
       "               ...\n",
       "               '2019-08-08 15:00:00', '2019-08-08 16:00:00',\n",
       "               '2019-08-08 17:00:00', '2019-08-08 18:00:00',\n",
       "               '2019-08-08 19:00:00', '2019-08-08 20:00:00',\n",
       "               '2019-08-08 21:00:00', '2019-08-08 22:00:00',\n",
       "               '2019-08-08 23:00:00', '2019-08-09 00:00:00'],\n",
       "              dtype='datetime64[ns]', length=8761, freq='H')"
      ]
     },
     "execution_count": 39,
     "metadata": {},
     "output_type": "execute_result"
    }
   ],
   "source": [
    "rng=pd.date_range(start=\"2018-08-09\", end=\"2019/08/09\",freq=\"H\")\n",
    "rng"
   ]
  },
  {
   "cell_type": "code",
   "execution_count": 40,
   "metadata": {},
   "outputs": [
    {
     "name": "stdout",
     "output_type": "stream",
     "text": [
      "[1 8 7 ... 4 2 4]\n"
     ]
    }
   ],
   "source": [
    "import numpy as np\n",
    "x=np.random.randint(1,10,len(rng))\n",
    "print(x)"
   ]
  },
  {
   "cell_type": "code",
   "execution_count": 41,
   "metadata": {},
   "outputs": [],
   "source": [
    "ts=pd.Series(np.random.randint(1,10,len(rng)), index=rng)"
   ]
  },
  {
   "cell_type": "code",
   "execution_count": 42,
   "metadata": {},
   "outputs": [
    {
     "data": {
      "text/plain": [
       "2018-08-09 00:00:00    5\n",
       "2018-08-09 01:00:00    2\n",
       "2018-08-09 02:00:00    6\n",
       "2018-08-09 03:00:00    8\n",
       "2018-08-09 04:00:00    9\n",
       "                      ..\n",
       "2019-08-08 20:00:00    6\n",
       "2019-08-08 21:00:00    6\n",
       "2019-08-08 22:00:00    8\n",
       "2019-08-08 23:00:00    3\n",
       "2019-08-09 00:00:00    2\n",
       "Freq: H, Length: 8761, dtype: int32"
      ]
     },
     "execution_count": 42,
     "metadata": {},
     "output_type": "execute_result"
    }
   ],
   "source": [
    "ts"
   ]
  },
  {
   "cell_type": "code",
   "execution_count": null,
   "metadata": {},
   "outputs": [],
   "source": []
  }
 ],
 "metadata": {
  "kernelspec": {
   "display_name": "Python 3",
   "language": "python",
   "name": "python3"
  },
  "language_info": {
   "codemirror_mode": {
    "name": "ipython",
    "version": 3
   },
   "file_extension": ".py",
   "mimetype": "text/x-python",
   "name": "python",
   "nbconvert_exporter": "python",
   "pygments_lexer": "ipython3",
   "version": "3.8.5"
  }
 },
 "nbformat": 4,
 "nbformat_minor": 2
}
